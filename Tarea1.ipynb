{
  "nbformat": 4,
  "nbformat_minor": 0,
  "metadata": {
    "colab": {
      "provenance": [],
      "authorship_tag": "ABX9TyPSCLQGFTTcxog8hxj2EFhh",
      "include_colab_link": true
    },
    "kernelspec": {
      "name": "python3",
      "display_name": "Python 3"
    },
    "language_info": {
      "name": "python"
    }
  },
  "cells": [
    {
      "cell_type": "markdown",
      "metadata": {
        "id": "view-in-github",
        "colab_type": "text"
      },
      "source": [
        "<a href=\"https://colab.research.google.com/github/javalmo/MCD2024PROGRAMACION/blob/main/Tarea1.ipynb\" target=\"_parent\"><img src=\"https://colab.research.google.com/assets/colab-badge.svg\" alt=\"Open In Colab\"/></a>"
      ]
    },
    {
      "cell_type": "code",
      "execution_count": null,
      "metadata": {
        "colab": {
          "base_uri": "https://localhost:8080/"
        },
        "id": "FnoSGSXc0AxK",
        "outputId": "d5d10824-93d6-4db0-9d15-f2dad2ce182e"
      },
      "outputs": [
        {
          "output_type": "stream",
          "name": "stdout",
          "text": [
            "133047489355456\n"
          ]
        }
      ],
      "source": [
        "# TIPOS DE DATOS\n",
        "import copy\n",
        "x =1\n",
        "x =[1, 2, 3]\n",
        "x[1] = 'e'\n",
        "print (id(x))"
      ]
    },
    {
      "cell_type": "code",
      "source": [
        "tupla =(4, 10, 6)\n",
        "print (id(tupla))\n",
        "\n",
        "tupla2 = copy.deepcopy(tupla)\n",
        "print (id(tupla2))\n",
        "\n",
        "tupla2"
      ],
      "metadata": {
        "colab": {
          "base_uri": "https://localhost:8080/"
        },
        "id": "b9NhZ3Lg01F_",
        "outputId": "1dcc84d9-4e9d-4e1d-bc6e-c4524e968d8e"
      },
      "execution_count": null,
      "outputs": [
        {
          "output_type": "stream",
          "name": "stdout",
          "text": [
            "133047003547712\n",
            "133047003547712\n"
          ]
        },
        {
          "output_type": "execute_result",
          "data": {
            "text/plain": [
              "(4, 10, 6)"
            ]
          },
          "metadata": {},
          "execution_count": 16
        }
      ]
    },
    {
      "cell_type": "code",
      "source": [
        "tupla"
      ],
      "metadata": {
        "colab": {
          "base_uri": "https://localhost:8080/"
        },
        "id": "PVp-OMG92C8v",
        "outputId": "df1e1f58-39ae-42a9-bb84-029fc926eee7"
      },
      "execution_count": null,
      "outputs": [
        {
          "output_type": "execute_result",
          "data": {
            "text/plain": [
              "(4, 10, 6)"
            ]
          },
          "metadata": {},
          "execution_count": 17
        }
      ]
    },
    {
      "cell_type": "code",
      "source": [
        "tupla+tupla2"
      ],
      "metadata": {
        "colab": {
          "base_uri": "https://localhost:8080/"
        },
        "id": "5KYMx1jR2RDk",
        "outputId": "31c8ee69-f814-4e12-ed5a-2f287e295b4d"
      },
      "execution_count": null,
      "outputs": [
        {
          "output_type": "execute_result",
          "data": {
            "text/plain": [
              "(4, 10, 6, 4, 10, 6)"
            ]
          },
          "metadata": {},
          "execution_count": 18
        }
      ]
    },
    {
      "cell_type": "code",
      "source": [
        "def doble(x):\n",
        "  return 2*x"
      ],
      "metadata": {
        "id": "jY2QPCS-2XOj"
      },
      "execution_count": null,
      "outputs": []
    },
    {
      "cell_type": "code",
      "source": [
        "print (doble(5))\n",
        "x=7\n",
        "print (doble(x))"
      ],
      "metadata": {
        "colab": {
          "base_uri": "https://localhost:8080/"
        },
        "id": "lofhp9rf2s1b",
        "outputId": "0328510e-9d76-4cd9-c2e9-3b54e91941bf"
      },
      "execution_count": null,
      "outputs": [
        {
          "output_type": "stream",
          "name": "stdout",
          "text": [
            "10\n",
            "14\n"
          ]
        }
      ]
    },
    {
      "cell_type": "code",
      "source": [
        "def imprimir(s):\n",
        "  print(s)"
      ],
      "metadata": {
        "id": "pu4L4Abm478P"
      },
      "execution_count": null,
      "outputs": []
    },
    {
      "cell_type": "code",
      "source": [
        "imprimir('hola')"
      ],
      "metadata": {
        "colab": {
          "base_uri": "https://localhost:8080/"
        },
        "id": "B-LAug4K5A1p",
        "outputId": "e2550433-2827-4c01-d851-21f3d990f57e"
      },
      "execution_count": null,
      "outputs": [
        {
          "output_type": "stream",
          "name": "stdout",
          "text": [
            "hola\n"
          ]
        }
      ]
    },
    {
      "cell_type": "code",
      "source": [
        "arreglo=[1, 2, 3, 4]\n",
        "nuevo_arreglo = [numero / 2 for numero in arreglo if numero % 2 ==0]\n",
        "# el \"% 2 ==0\" indica que el residual es igual a cero es decir el resultado de\n",
        "# dividir entre dos es entero no decimal\n",
        "print(nuevo_arreglo)"
      ],
      "metadata": {
        "colab": {
          "base_uri": "https://localhost:8080/"
        },
        "id": "qH70sFzD5N-_",
        "outputId": "20b29d1b-a935-41ec-eca3-0623302e57c5"
      },
      "execution_count": null,
      "outputs": [
        {
          "output_type": "stream",
          "name": "stdout",
          "text": [
            "[1.0, 2.0]\n"
          ]
        }
      ]
    },
    {
      "cell_type": "code",
      "source": [
        "## EJERCICIO HACER LISTA DE NUMEROS DE (1->n) QUE SEAN DIVISIBLES ENTRE 3 Y 7 Y\n",
        "## QUE EL ÚLTIMO DIGITO MENOS SIGNIFICATIVO SEA 6 (TERMINEN EN 6)\n",
        "\n",
        "n = 10_000\n",
        "lista = range (1,n)\n",
        "\n",
        "def divisible(x):\n",
        "    return x % 7 == 0 and x % 3 == 0 and x % 10 == 6\n",
        "\n",
        "#Comprobabndo que numero si cumple con la división es el 21*6=126, sería el primer valor\n",
        "print (divisible(126))"
      ],
      "metadata": {
        "colab": {
          "base_uri": "https://localhost:8080/"
        },
        "id": "_6c53IK-53zH",
        "outputId": "b4998886-57dc-4010-a943-645fa0064c95"
      },
      "execution_count": null,
      "outputs": [
        {
          "output_type": "stream",
          "name": "stdout",
          "text": [
            "True\n"
          ]
        }
      ]
    },
    {
      "cell_type": "code",
      "source": [
        "#One-liner\n",
        "[numero for numero in lista if numero % 7 == 0 and numero % 3 == 0 and numero % 10 == 6]"
      ],
      "metadata": {
        "colab": {
          "base_uri": "https://localhost:8080/"
        },
        "id": "NfIcZwpl6zjV",
        "outputId": "662c1834-7741-4e9e-9941-58b2a94c1d22"
      },
      "execution_count": null,
      "outputs": [
        {
          "output_type": "execute_result",
          "data": {
            "text/plain": [
              "[126,\n",
              " 336,\n",
              " 546,\n",
              " 756,\n",
              " 966,\n",
              " 1176,\n",
              " 1386,\n",
              " 1596,\n",
              " 1806,\n",
              " 2016,\n",
              " 2226,\n",
              " 2436,\n",
              " 2646,\n",
              " 2856,\n",
              " 3066,\n",
              " 3276,\n",
              " 3486,\n",
              " 3696,\n",
              " 3906,\n",
              " 4116,\n",
              " 4326,\n",
              " 4536,\n",
              " 4746,\n",
              " 4956,\n",
              " 5166,\n",
              " 5376,\n",
              " 5586,\n",
              " 5796,\n",
              " 6006,\n",
              " 6216,\n",
              " 6426,\n",
              " 6636,\n",
              " 6846,\n",
              " 7056,\n",
              " 7266,\n",
              " 7476,\n",
              " 7686,\n",
              " 7896,\n",
              " 8106,\n",
              " 8316,\n",
              " 8526,\n",
              " 8736,\n",
              " 8946,\n",
              " 9156,\n",
              " 9366,\n",
              " 9576,\n",
              " 9786,\n",
              " 9996]"
            ]
          },
          "metadata": {},
          "execution_count": 47
        }
      ]
    },
    {
      "cell_type": "code",
      "source": [
        "##EJERCICIO FUNCIONES\n",
        "\n",
        "lista = [1,'a',1, 13, 'hola', 'a', 1, 1, 'a', 1, 'hola', 13]\n",
        "\n",
        "def repetidos(x, imprimeme = True):\n",
        "  contador={} #LISTA VACIA\n",
        "  for i in x:\n",
        "      if i in contador:\n",
        "        contador[i] = contador [i] + 1\n",
        "      else:\n",
        "        contador [i] = 1 #en este caso es el primer valor que lee y agrega uno al contador\n",
        "\n",
        "  if imprimeme:\n",
        "      for i in contador:\n",
        "        print(str(i) + '-'*contador[i]+ ' ' + str(contador[i]/len(x)*100) + '%')\n",
        "\n",
        "repetidos(lista)\n"
      ],
      "metadata": {
        "colab": {
          "base_uri": "https://localhost:8080/"
        },
        "id": "G_KB-zeO7Pe-",
        "outputId": "04c6bb9f-9d09-42ab-e331-1c4d82d348ae"
      },
      "execution_count": null,
      "outputs": [
        {
          "output_type": "stream",
          "name": "stdout",
          "text": [
            "1----- 41.66666666666667%\n",
            "a--- 25.0%\n",
            "13-- 16.666666666666664%\n",
            "hola-- 16.666666666666664%\n"
          ]
        }
      ]
    },
    {
      "cell_type": "code",
      "source": [
        "## EJERCICIO DICCIONARIOS MODIFICADOS\n",
        "dic1 = {'Pepe':[12, 'enero', 1980], 'Carolina':[15,'mayo',1975],'Paco':[10,'nov',1970]}\n",
        "\n",
        "def fundicos(diccionario, llave, indice, nuevo_valor):\n",
        "    nuevo_diccionario = copy.deepcopy(diccionario)\n",
        "    nuevo_arreglo = nuevo_diccionario[llave]\n",
        "    nuevo_arreglo[indice]=nuevo_valor\n",
        "    return nuevo_diccionario\n",
        "\n",
        "dic2 = fundicos(dic1, 'Pepe', 1, 'febrero')\n",
        "\n",
        "print(dic1)\n",
        "print(dic2)"
      ],
      "metadata": {
        "colab": {
          "base_uri": "https://localhost:8080/"
        },
        "id": "cRnkszKy9QyL",
        "outputId": "94bf3bf5-f3ec-45bd-c4c5-c6c6c77c542a"
      },
      "execution_count": null,
      "outputs": [
        {
          "output_type": "stream",
          "name": "stdout",
          "text": [
            "{'Pepe': [12, 'enero', 1980], 'Carolina': [15, 'mayo', 1975], 'Paco': [10, 'nov', 1970]}\n",
            "{'Pepe': [12, 'febrero', 1980], 'Carolina': [15, 'mayo', 1975], 'Paco': [10, 'nov', 1970]}\n"
          ]
        }
      ]
    },
    {
      "cell_type": "code",
      "source": [
        "## EJERCICIO GENERADORES PERMUTACIONES ABCD\n",
        "from itertools import permutations\n",
        "\n",
        "lista=['a', 'b', 'c', 'd']\n",
        "\n",
        "def permutaciones(lista):\n",
        "  return list(permutations(lista))\n",
        "\n",
        "p = permutaciones(lista)\n",
        "\n",
        "print(p)\n"
      ],
      "metadata": {
        "id": "c17SvzTU-yn2",
        "colab": {
          "base_uri": "https://localhost:8080/"
        },
        "outputId": "4c5d10ae-4d2d-4f4a-f452-38b64d610970"
      },
      "execution_count": null,
      "outputs": [
        {
          "output_type": "stream",
          "name": "stdout",
          "text": [
            "[('a', 'b', 'c', 'd'), ('a', 'b', 'd', 'c'), ('a', 'c', 'b', 'd'), ('a', 'c', 'd', 'b'), ('a', 'd', 'b', 'c'), ('a', 'd', 'c', 'b'), ('b', 'a', 'c', 'd'), ('b', 'a', 'd', 'c'), ('b', 'c', 'a', 'd'), ('b', 'c', 'd', 'a'), ('b', 'd', 'a', 'c'), ('b', 'd', 'c', 'a'), ('c', 'a', 'b', 'd'), ('c', 'a', 'd', 'b'), ('c', 'b', 'a', 'd'), ('c', 'b', 'd', 'a'), ('c', 'd', 'a', 'b'), ('c', 'd', 'b', 'a'), ('d', 'a', 'b', 'c'), ('d', 'a', 'c', 'b'), ('d', 'b', 'a', 'c'), ('d', 'b', 'c', 'a'), ('d', 'c', 'a', 'b'), ('d', 'c', 'b', 'a')]\n"
          ]
        }
      ]
    },
    {
      "cell_type": "code",
      "source": [
        "## EJERCICIO GENERADORES PERMUTACIONES HORAS VÁLIDAS \"HH : MM\"\n",
        "from itertools import permutations\n",
        "\n",
        "def horas_validas(a, b, c, d):\n",
        "  digito = [str(a), str(b), str(c), str(d)]\n",
        "  permutaciones = set(permutations(digito, 4))\n",
        "  horas = []\n",
        "  for p in permutaciones:\n",
        "    hh = int(p[0] + p[1])\n",
        "    mm = int(p[2] + p[3])\n",
        "    if 0 <= hh < 24 and 0 <= mm < 60:\n",
        "      horas.append(str(hh) + ' : ' + str(mm))\n",
        "  return sorted(horas)\n",
        "\n",
        "digito = [1, 2, 3, 4]\n",
        "print(horas_validas(*digito))"
      ],
      "metadata": {
        "colab": {
          "base_uri": "https://localhost:8080/"
        },
        "id": "zO5hEKdy1iEo",
        "outputId": "7bd28e84-908f-41c0-d733-d23ce5094913"
      },
      "execution_count": 32,
      "outputs": [
        {
          "output_type": "stream",
          "name": "stdout",
          "text": [
            "['12 : 34', '12 : 43', '13 : 24', '13 : 42', '14 : 23', '14 : 32', '21 : 34', '21 : 43', '23 : 14', '23 : 41']\n"
          ]
        }
      ]
    },
    {
      "cell_type": "code",
      "source": [],
      "metadata": {
        "id": "VcRn6fTh0NAG"
      },
      "execution_count": null,
      "outputs": []
    },
    {
      "cell_type": "code",
      "source": [
        "##EJERCICIO PATRONES\n",
        "\n",
        "def print_patron(patron, n):\n",
        "  if n<4:\n",
        "      print(\"El tamaño debe ser al menos 4\")\n",
        "      return\n",
        "  elif patron == 1:\n",
        "      for i in range(1, n+1):\n",
        "        print('*' * i)\n",
        "  elif patron == 2:\n",
        "      if n % 4 == 0:\n",
        "        print(\"Para el patrón ++++, el valor de n debe ser múltiplo de 4\")\n",
        "        return\n",
        "      for i in range (n):\n",
        "        print('+' * 4)\n",
        "  elif patron == 3:\n",
        "      if n % 2 == 0:\n",
        "        print(\"Para el patrón oooooooo, el valor de n debe de ser par.\")\n",
        "        return\n",
        "      print('o' * n)\n",
        "      for i in range(1, n//2):\n",
        "        print('o' * (n//2 - i) + ' ' * (2 * i) + 'o' * (n//2 - i))\n",
        "      for i in range(n//2 - 1, 0, -1):\n",
        "        print('o' * (n//2 - i) + ' ' * (2 * i) + 'o' * (n//2 - i))\n",
        "      print('o' * n)\n",
        "  else:\n",
        "    print(\"El patrón ingresado no es válido, Seleccione 1, 2 o 3.\")\n",
        "\n",
        "print_patron(3,9)\n",
        "print_patron(1,6)\n",
        "print_patron(2,7)\n",
        "\n"
      ],
      "metadata": {
        "id": "L0Y0hgv8BD4a",
        "colab": {
          "base_uri": "https://localhost:8080/"
        },
        "outputId": "a8f5662e-ec63-45a5-c181-443ca18c54a5"
      },
      "execution_count": 25,
      "outputs": [
        {
          "output_type": "stream",
          "name": "stdout",
          "text": [
            "ooooooooo\n",
            "ooo  ooo\n",
            "oo    oo\n",
            "o      o\n",
            "o      o\n",
            "oo    oo\n",
            "ooo  ooo\n",
            "ooooooooo\n",
            "*\n",
            "**\n",
            "***\n",
            "****\n",
            "*****\n",
            "******\n",
            "++++\n",
            "++++\n",
            "++++\n",
            "++++\n",
            "++++\n",
            "++++\n",
            "++++\n"
          ]
        }
      ]
    },
    {
      "cell_type": "code",
      "source": [
        "##EJERCICIO CLASES PARA MATRICES\n",
        "\n",
        "class matriz:\n",
        "  def __init__(self, n = 1, m = None, tipo='cero'):\n",
        "    self.n = n\n",
        "    self.m = m if m is not None else m\n",
        "    self.matriz = self._iniciomatriz(tipo)\n",
        "\n",
        "  def _iniciomatriz(self, tipo):\n",
        "    if tipo == 'unos':\n",
        "      return [[1] * self.m for _ in range(self.n)]\n",
        "    elif tipo == 'diag':\n",
        "      return [[1 if i == j else 0 in range(self.m)] for i in range(self.n)]\n",
        "    else:\n",
        "      self.m = self.n if self.m is None else self.m\n",
        "      return [[0] * self.m for _ in range(self.n)]\n",
        "\n",
        "matriz1=matriz(3)\n",
        "print(matriz1)"
      ],
      "metadata": {
        "colab": {
          "base_uri": "https://localhost:8080/"
        },
        "id": "XnjENYWB0QJc",
        "outputId": "8babdf4f-c941-45c7-9493-3b5dbf1377d6"
      },
      "execution_count": 51,
      "outputs": [
        {
          "output_type": "stream",
          "name": "stdout",
          "text": [
            "<__main__.matriz object at 0x7f18b4972980>\n"
          ]
        }
      ]
    },
    {
      "source": [],
      "cell_type": "code",
      "metadata": {
        "id": "toUoAzue4TI8"
      },
      "execution_count": 47,
      "outputs": []
    }
  ]
}